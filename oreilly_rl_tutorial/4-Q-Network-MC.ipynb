{
 "cells": [
  {
   "cell_type": "markdown",
   "metadata": {},
   "source": [
    "# Exercise 4: Q-Learning with Monte Carlo Updates"
   ]
  },
  {
   "cell_type": "code",
   "execution_count": null,
   "metadata": {
    "collapsed": true
   },
   "outputs": [],
   "source": [
    "from __future__ import division\n",
    "\n",
    "import numpy as np\n",
    "import random\n",
    "import os\n",
    "import tensorflow as tf\n",
    "import tensorflow.contrib.slim as slim\n",
    "\n",
    "from unityenv import UnityEnvironment"
   ]
  },
  {
   "cell_type": "markdown",
   "metadata": {},
   "source": [
    "### Hyperparameters"
   ]
  },
  {
   "cell_type": "code",
   "execution_count": null,
   "metadata": {
    "collapsed": true
   },
   "outputs": [],
   "source": [
    "y = .99 # Discount rate\n",
    "start_e = 1 # Starting epsilon value\n",
    "end_e = 0.1 # Final epsilon value\n",
    "annealing_steps = 10000 # Number of steps to anneal epsilon\n",
    "num_episodes = 1000 # Total episodes to run environment\n",
    "summary_path = './summaries/q-mc' # Path to save statistics\n",
    "learning_rate = 1e-2 # Agent learning rate"
   ]
  },
  {
   "cell_type": "markdown",
   "metadata": {},
   "source": [
    "### Load the Unity environment"
   ]
  },
  {
   "cell_type": "code",
   "execution_count": null,
   "metadata": {
    "collapsed": true,
    "scrolled": false
   },
   "outputs": [],
   "source": [
    "env_config = {'--grid-size': 7, '--num-objects': 4, '--num-goals': 1}\n",
    "env = UnityEnvironment(file_name=\"FixedGridWorld\", worker_num=3, config=env_config)\n",
    "print (str(env))"
   ]
  },
  {
   "cell_type": "markdown",
   "metadata": {},
   "source": [
    "### Examine the state space"
   ]
  },
  {
   "cell_type": "code",
   "execution_count": null,
   "metadata": {
    "collapsed": true
   },
   "outputs": [],
   "source": [
    "_, state = env.reset()\n",
    "print(state)"
   ]
  },
  {
   "cell_type": "markdown",
   "metadata": {},
   "source": [
    "State (s) is an integer which corresponds to a discrete state."
   ]
  },
  {
   "cell_type": "markdown",
   "metadata": {},
   "source": [
    "## The Q-Learning Agent"
   ]
  },
  {
   "cell_type": "code",
   "execution_count": null,
   "metadata": {
    "collapsed": true
   },
   "outputs": [],
   "source": [
    "def discount_rewards(r, gamma):\n",
    "    \"\"\" \n",
    "    function from karpathy.github.io/2016/05/31/rl/\n",
    "    take 1D float array of rewards and compute discounted reward \n",
    "    \"\"\"\n",
    "    discounted_r = np.zeros_like(r)\n",
    "    running_add = 0\n",
    "    for t in reversed(range(0, r.size)):\n",
    "        running_add = running_add * gamma + r[t]\n",
    "        discounted_r[t] = running_add\n",
    "    return discounted_r\n",
    "\n",
    "class QAgent(object):\n",
    "    def __init__(self, num_states, num_actions, lr):\n",
    "        # These lines establish the feed-forward part of the network used to estimate Q(s, a)\n",
    "        self.state_input = tf.placeholder(shape=[None, 1],dtype=tf.int32)\n",
    "        state = slim.one_hot_encoding(self.state_input, num_states)\n",
    "        self.q_out = slim.fully_connected(state, num_actions,\n",
    "                                          biases_initializer=None, \n",
    "                                          weights_initializer= tf.zeros_initializer(),\n",
    "                                          activation_fn=None)\n",
    "        self.q_out = slim.flatten(self.q_out)\n",
    "        self.predict = tf.argmax(self.q_out,1)\n",
    "\n",
    "        # Below we obtain the loss by taking the sum of squares difference\n",
    "        # between the target and prediction Q values.\n",
    "        self.q_next = tf.placeholder(shape=[None],dtype=tf.float32)\n",
    "        self.action = tf.placeholder(shape=[None],dtype=tf.int32)\n",
    "        self.action_onehot = slim.one_hot_encoding(self.action, num_actions)\n",
    "        self.selected_q = tf.reduce_sum(self.q_out * self.action_onehot, axis=1)\n",
    "        self.loss = tf.reduce_sum(tf.squared_difference(self.q_next, self.selected_q))\n",
    "        trainer = tf.train.AdamOptimizer(learning_rate=lr)\n",
    "        self.update = trainer.minimize(self.loss)"
   ]
  },
  {
   "cell_type": "markdown",
   "metadata": {},
   "source": [
    "### Training the network"
   ]
  },
  {
   "cell_type": "code",
   "execution_count": null,
   "metadata": {
    "collapsed": true,
    "scrolled": true
   },
   "outputs": [],
   "source": [
    "tf.reset_default_graph()\n",
    "agent = QAgent(env.state_space_size, env.action_space_size, learning_rate)\n",
    "init = tf.global_variables_initializer()\n",
    "\n",
    "if not os.path.exists(summary_path):\n",
    "    os.makedirs(summary_path)\n",
    "\n",
    "e_drop = (start_e - end_e) / annealing_steps\n",
    "e = start_e\n",
    "value_table = np.zeros([env.state_space_size])\n",
    "\n",
    "# Create lists to contain total rewards and steps per episode\n",
    "episode_list = []\n",
    "reward_list = []\n",
    "loss_list = []\n",
    "with tf.Session() as sess:\n",
    "    sess.run(init)\n",
    "    summary_writer = tf.summary.FileWriter(summary_path)\n",
    "    for i in range(num_episodes):\n",
    "        # Reset environment and get first new state\n",
    "        _, state = env.reset()\n",
    "        total_reward = 0\n",
    "        done = False\n",
    "        steps = 0\n",
    "        episode_buffer = []\n",
    "        while not done:\n",
    "            steps +=1\n",
    "            # Choose an action by greedily (with e chance of random action) from the Q-network\n",
    "            action, Q = sess.run([agent.predict,agent.q_out],feed_dict={agent.state_input: [state]})\n",
    "            action = action[0]\n",
    "            if np.random.rand(1) < e:\n",
    "                action = np.random.randint(0, env.action_space_size)\n",
    "            \n",
    "            # Get new state and reward from environment\n",
    "            _, state_1, reward, done = env.step(action, value_table.tolist())\n",
    "            episode_buffer.append([state, action, reward, state_1, done])\n",
    "            \n",
    "            total_reward += reward\n",
    "            state = state_1\n",
    "            if e > end_e:\n",
    "                e -= e_drop\n",
    "        # Train our network using target and estimated Q values\n",
    "        episode_matrix = np.array(episode_buffer)\n",
    "        episode_matrix[:, 2] = discount_rewards(episode_matrix[:, 2], y)\n",
    "        _, q_table, v_loss = sess.run([agent.update, \n",
    "                                       tf.trainable_variables()[0], \n",
    "                                       agent.loss],\n",
    "                 feed_dict={agent.state_input: np.vstack(episode_matrix[:, 0]), \n",
    "                            agent.q_next: episode_matrix[:, 2],\n",
    "                            agent.action: episode_matrix[:, 1]})\n",
    "        loss_list.append(v_loss)\n",
    "        episode_list.append(steps)\n",
    "        reward_list.append(total_reward)\n",
    "        value_table = np.mean(q_table, axis=1)\n",
    "        if i % 50 == 0 and i != 0:\n",
    "            summary = tf.Summary()\n",
    "            summary.value.add(tag='Info/Reward', simple_value=float(np.mean(reward_list[-50:])))\n",
    "            summary.value.add(tag='Info/Value Loss', simple_value=float(np.mean(loss_list[-50:])))\n",
    "            summary.value.add(tag='Info/Epsilon', simple_value=float(e))\n",
    "            summary.value.add(tag='Info/Q Estimate', simple_value=float(np.mean(value_table)))\n",
    "            summary.value.add(tag='Info/Episode Length', simple_value=float(np.mean(episode_list[-50:])))\n",
    "            summary_writer.add_summary(summary, i)\n",
    "            summary_writer.flush()\n",
    "            print (\"Mean Reward: {}\".format(np.mean(reward_list[-50:])))\n",
    "env.close()"
   ]
  },
  {
   "cell_type": "code",
   "execution_count": null,
   "metadata": {
    "collapsed": true
   },
   "outputs": [],
   "source": [
    "env.close()"
   ]
  }
 ],
 "metadata": {
  "anaconda-cloud": {},
  "kernelspec": {
   "display_name": "Python 3",
   "language": "python",
   "name": "python3"
  },
  "language_info": {
   "codemirror_mode": {
    "name": "ipython",
    "version": 2
   },
   "file_extension": ".py",
   "mimetype": "text/x-python",
   "name": "python",
   "nbconvert_exporter": "python",
   "pygments_lexer": "ipython2",
   "version": "2.7.13"
  }
 },
 "nbformat": 4,
 "nbformat_minor": 1
}
